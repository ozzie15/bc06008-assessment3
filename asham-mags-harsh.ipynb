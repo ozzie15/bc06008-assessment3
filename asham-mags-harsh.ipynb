{
 "cells": [
  {
   "cell_type": "markdown",
   "id": "f3973710",
   "metadata": {},
   "source": [
    "# Load Libraries and dataset"
   ]
  },
  {
   "cell_type": "code",
   "execution_count": null,
   "id": "b38a181d",
   "metadata": {},
   "outputs": [],
   "source": [
    "import pandas as pd\n",
    "import matplotlib.pyplot as plt\n",
    "import seaborn as sns\n",
    "\n",
    "# Load the dataset\n",
    "data = pd.read_csv(\"wind-turbine.csv\")\n"
   ]
  },
  {
   "cell_type": "code",
   "execution_count": null,
   "id": "d1dd5cda",
   "metadata": {},
   "outputs": [],
   "source": [
    "# Convert 'commissioning_date' to datetime with only the year\n",
    "data['commissioning_date'] = pd.to_datetime(data['commissioning_date'], format='%Y')\n",
    "\n",
    "# Extract the year from the current date\n",
    "current_date = pd.to_datetime('2023-11-08')\n",
    "current_year = current_date.year\n",
    "\n",
    "# Calculate turbine age based on the year\n",
    "data['turbine_age'] = current_year - data['commissioning_date'].dt.year\n"
   ]
  },
  {
   "cell_type": "markdown",
   "id": "52403ed0",
   "metadata": {},
   "source": [
    "# Manufacturer vs. Turbine Age"
   ]
  },
  {
   "cell_type": "code",
   "execution_count": null,
   "id": "9f127c10",
   "metadata": {},
   "outputs": [],
   "source": [
    "import pandas as pd\n",
    "import matplotlib.pyplot as plt\n",
    "import seaborn as sns\n",
    "\n",
    "# Load the dataset\n",
    "data = pd.read_csv(\"wind-turbine.csv\")\n",
    "\n",
    "# Convert 'commissioning_date' to datetime with only the year\n",
    "data['commissioning_date'] = pd.to_datetime(data['commissioning_date'], format='%Y')\n",
    "\n",
    "# Extract the year from the current date\n",
    "current_date = pd.to_datetime('2023-11-08')\n",
    "current_year = current_date.year\n",
    "\n",
    "# Calculate turbine age based on the year\n",
    "data['turbine_age'] = current_year - data['commissioning_date'].dt.year\n",
    "\n",
    "# Visualization - Turbine Manufacturer vs. Turbine Age\n",
    "plt.figure(figsize=(12, 6))\n",
    "\n",
    "# Additional visualization to check distribution\n",
    "plt.subplot(1, 2, 1)\n",
    "sns.boxplot(x='manufacturer', y='turbine_age', data=data)\n",
    "plt.xticks(rotation=90)\n",
    "plt.title(\"Turbine Manufacturer vs. Turbine Age\")\n",
    "\n",
    "plt.subplot(1, 2, 2)\n",
    "sns.violinplot(x='manufacturer', y='turbine_age', data=data)\n",
    "plt.xticks(rotation=90)\n",
    "plt.title(\"Distribution of Turbine Age by Manufacturer\")\n",
    "\n",
    "plt.tight_layout()\n",
    "plt.show()\n",
    "\n"
   ]
  },
  {
   "cell_type": "markdown",
   "id": "c9b29233",
   "metadata": {},
   "source": [
    "# Model vs. Turbine Age"
   ]
  },
  {
   "cell_type": "code",
   "execution_count": null,
   "id": "315ae7c8",
   "metadata": {},
   "outputs": [],
   "source": [
    "import pandas as pd\n",
    "import matplotlib.pyplot as plt\n",
    "import seaborn as sns\n",
    "\n",
    "# Load the dataset\n",
    "data = pd.read_csv(\"wind-turbine.csv\")\n",
    "\n",
    "# Convert 'commissioning_date' to datetime with only the year\n",
    "data['commissioning_date'] = pd.to_datetime(data['commissioning_date'], format='%Y')\n",
    "\n",
    "# Extract the year from the current date\n",
    "current_date = pd.to_datetime('2023-11-08')\n",
    "current_year = current_date.year\n",
    "\n",
    "# Calculate turbine age based on the year\n",
    "data['turbine_age'] = current_year - data['commissioning_date'].dt.year\n",
    "\n",
    "# Select the top N models by count\n",
    "top_n_models = data['model'].value_counts().nlargest(10).index\n",
    "\n",
    "# Filter the data for the top N models\n",
    "filtered_data = data[data['model'].isin(top_n_models)]\n",
    "\n",
    "# Visualization - Turbine Model vs. Turbine Age\n",
    "plt.figure(figsize=(12, 6))\n",
    "\n",
    "# Additional visualization to check distribution\n",
    "plt.subplot(1, 2, 1)\n",
    "sns.boxplot(x='model', y='turbine_age', data=filtered_data)\n",
    "plt.xticks(rotation=90)\n",
    "plt.title(\"Turbine Model vs. Turbine Age (Top 10 Models)\")\n",
    "\n",
    "plt.subplot(1, 2, 2)\n",
    "sns.violinplot(x='model', y='turbine_age', data=filtered_data)\n",
    "plt.xticks(rotation=90)\n",
    "plt.title(\"Distribution of Turbine Age by Model (Top 10 Models)\")\n",
    "\n",
    "plt.tight_layout()\n",
    "plt.show()\n"
   ]
  },
  {
   "cell_type": "markdown",
   "id": "9190af47",
   "metadata": {},
   "source": [
    "# Count of Turbine Models by Manufacturer"
   ]
  },
  {
   "cell_type": "code",
   "execution_count": null,
   "id": "c562c52a",
   "metadata": {},
   "outputs": [],
   "source": [
    "import pandas as pd\n",
    "import matplotlib.pyplot as plt\n",
    "import seaborn as sns\n",
    "\n",
    "# Load the dataset\n",
    "data = pd.read_csv(\"wind-turbine.csv\")\n",
    "\n",
    "# Visualization - Count of Turbine Models by Manufacturer with Counts\n",
    "plt.figure(figsize=(12, 6))\n",
    "ax = sns.countplot(x='manufacturer', data=data)\n",
    "plt.xticks(rotation=90)\n",
    "plt.title(\"Count of Turbines by Manufacturer\")\n",
    "\n",
    "# Add counts on top of each bar\n",
    "for p in ax.patches:\n",
    "    ax.annotate(f'{p.get_height()}', (p.get_x() + p.get_width() / 2., p.get_height()),\n",
    "                ha='center', va='center', xytext=(0, 10), textcoords='offset points')\n",
    "\n",
    "plt.show()\n",
    "\n",
    "\n",
    "\n"
   ]
  },
  {
   "cell_type": "markdown",
   "id": "d664442f",
   "metadata": {},
   "source": [
    "# Turbine age vs Commissioning date"
   ]
  },
  {
   "cell_type": "code",
   "execution_count": null,
   "id": "bd65374f",
   "metadata": {},
   "outputs": [],
   "source": [
    "import pandas as pd\n",
    "import matplotlib.pyplot as plt\n",
    "\n",
    "# Load the dataset\n",
    "data = pd.read_csv(\"wind-turbine.csv\")\n",
    "\n",
    "# Convert 'commissioning_date' to datetime with only the year\n",
    "data['commissioning_date'] = pd.to_datetime(data['commissioning_date'], format='%Y')\n",
    "\n",
    "# Extract the year from the current date\n",
    "current_date = pd.to_datetime('2023-11-08')\n",
    "current_year = current_date.year\n",
    "\n",
    "# Calculate turbine age based on the year\n",
    "data['turbine_age'] = current_year - data['commissioning_date'].dt.year\n",
    "\n",
    "# Scatter plot - Turbine Age vs Commissioning Date\n",
    "plt.figure(figsize=(12, 6))\n",
    "plt.scatter(data['commissioning_date'], data['turbine_age'], alpha=0.5)\n",
    "plt.title('Turbine Age vs Commissioning Date')\n",
    "plt.xlabel('Commissioning Date')\n",
    "plt.ylabel('Turbine Age')\n",
    "plt.show()\n"
   ]
  },
  {
   "cell_type": "code",
   "execution_count": null,
   "id": "fdce0987",
   "metadata": {},
   "outputs": [],
   "source": [
    "pip install pandas scikit-learn\n"
   ]
  },
  {
   "cell_type": "markdown",
   "id": "ab416e7a",
   "metadata": {},
   "source": [
    "# Predict Remaining Useful Life (RUL)"
   ]
  },
  {
   "cell_type": "code",
   "execution_count": null,
   "id": "fd9e3407",
   "metadata": {},
   "outputs": [],
   "source": [
    "import pandas as pd\n",
    "from sklearn.model_selection import train_test_split\n",
    "from sklearn.ensemble import RandomForestRegressor\n",
    "from sklearn.metrics import mean_absolute_error, mean_squared_error, r2_score\n",
    "from sklearn.impute import SimpleImputer\n",
    "from datetime import datetime\n",
    "\n",
    "# Load the dataset\n",
    "data = pd.read_csv(\"wind-turbine.csv\")\n",
    "\n",
    "# Convert 'commissioning_date' to datetime with only the year\n",
    "data['commissioning_date'] = pd.to_datetime(data['commissioning_date'], format='%Y')\n",
    "\n",
    "# Extract the year from the current date\n",
    "current_date = datetime.now()\n",
    "data['turbine_age'] = current_date.year - data['commissioning_date'].dt.year\n",
    "\n",
    "# Calculate remaining useful life (RUL)\n",
    "data['rul'] = (current_date - data['commissioning_date']).dt.days\n",
    "\n",
    "# Select features and target variable\n",
    "features = ['turbine_rated_capacity_k_w', 'rotor_diameter_m', 'hub_height_m']\n",
    "target = 'rul'\n",
    "\n",
    "# Split the data into training and testing sets\n",
    "X_train, X_test, y_train, y_test = train_test_split(data[features], data[target], test_size=0.2, random_state=42)\n",
    "\n",
    "# Impute missing values with the mean\n",
    "imputer = SimpleImputer(strategy='mean')\n",
    "X_train = imputer.fit_transform(X_train)\n",
    "X_test = imputer.transform(X_test)\n",
    "\n",
    "# Initialize and train the Random Forest Regressor model\n",
    "model = RandomForestRegressor(random_state=42)\n",
    "model.fit(X_train, y_train)\n",
    "\n",
    "# Make predictions on the test set\n",
    "y_pred = model.predict(X_test)\n",
    "\n",
    "# Evaluate the model\n",
    "mae = mean_absolute_error(y_test, y_pred)\n",
    "rmse = mean_squared_error(y_test, y_pred, squared=False)\n",
    "r2 = r2_score(y_test, y_pred)\n",
    "\n",
    "print(f'Mean Absolute Error (MAE): {mae}')\n",
    "print(f'Root Mean Squared Error (RMSE): {rmse}')\n",
    "print(f'R-squared (R2): {r2}')\n",
    "\n"
   ]
  }
 ],
 "metadata": {
  "kernelspec": {
   "display_name": "Python 3 (ipykernel)",
   "language": "python",
   "name": "python3"
  },
  "language_info": {
   "codemirror_mode": {
    "name": "ipython",
    "version": 3
   },
   "file_extension": ".py",
   "mimetype": "text/x-python",
   "name": "python",
   "nbconvert_exporter": "python",
   "pygments_lexer": "ipython3",
   "version": "3.11.4"
  }
 },
 "nbformat": 4,
 "nbformat_minor": 5
}
